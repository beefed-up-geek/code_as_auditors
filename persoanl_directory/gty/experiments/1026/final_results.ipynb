{
 "cells": [
  {
   "cell_type": "markdown",
   "id": "f3680ab6",
   "metadata": {},
   "source": [
    "## 1. 환경 설정"
   ]
  },
  {
   "cell_type": "code",
   "execution_count": 13,
   "id": "e50d1f25",
   "metadata": {},
   "outputs": [],
   "source": [
    "import os, json, openai\n",
    "from tqdm import tqdm\n",
    "from dotenv import load_dotenv\n",
    "import pandas as pd\n",
    "from collections import defaultdict\n",
    "from openai import OpenAI\n",
    "\n",
    "load_dotenv()\n",
    "client = OpenAI()\n",
    "\n",
    "# 디렉터리 설정\n",
    "os.makedirs(\"results\", exist_ok=True)"
   ]
  },
  {
   "cell_type": "markdown",
   "id": "bb17f444",
   "metadata": {},
   "source": [
    "## 2. 데이터 로드"
   ]
  },
  {
   "cell_type": "code",
   "execution_count": 27,
   "id": "29d56b87",
   "metadata": {},
   "outputs": [],
   "source": [
    "import json, os\n",
    "from collections import defaultdict\n",
    "\n",
    "# 6개 파일 로드\n",
    "with open(\"../../../../dataset/PIPA/cases/illegal.jsonl\", \"r\", encoding=\"utf-8\") as f:\n",
    "    cases = [json.loads(line) for line in f]\n",
    "    cases = cases[:10]\n",
    "\n",
    "with open(\"pseudocode_law.json\", \"r\", encoding=\"utf-8\") as f:\n",
    "    pseudocode_law = json.load(f)\n",
    "with open(\"pseudocode_decree.json\", \"r\", encoding=\"utf-8\") as f:\n",
    "    pseudocode_decree = json.load(f)\n",
    "\n",
    "with open(\"accumulated_variables_law.json\", \"r\", encoding=\"utf-8\") as f:\n",
    "    checklist_law = json.load(f)\n",
    "with open(\"accumulated_variables_decree.json\", \"r\", encoding=\"utf-8\") as f:\n",
    "    checklist_decree = json.load(f)\n",
    "\n",
    "with open(\"../../../../dataset/PIPA/law/law.json\", \"r\", encoding=\"utf-8\") as f:\n",
    "    full_law = json.load(f)\n",
    "with open(\"../../../../dataset/PIPA/law/decree.json\", \"r\", encoding=\"utf-8\") as f:\n",
    "    full_decree = json.load(f)\n",
    "\n",
    "# 전체 변수 초기화\n",
    "def init_vars(full_json):\n",
    "    vars_dict = {}\n",
    "    for node in full_json:\n",
    "        var = node.get(\"var_name\")\n",
    "        if var:\n",
    "            vars_dict[var] = {\"applicability\": False, \"legal\": True}\n",
    "    return vars_dict\n",
    "\n",
    "base_vars_law_full = init_vars(full_law)\n",
    "base_vars_decree_full = init_vars(full_decree)"
   ]
  },
  {
   "cell_type": "markdown",
   "id": "d5d8c00f",
   "metadata": {},
   "source": [
    "## 3. 트리 생성 함수"
   ]
  },
  {
   "cell_type": "code",
   "execution_count": 28,
   "id": "88842d34",
   "metadata": {},
   "outputs": [],
   "source": [
    "def build_tree_with_root(pseudocode_data, root_id, root_name):\n",
    "    nodes = {item[\"id\"]: item for item in pseudocode_data}\n",
    "    tree = defaultdict(list)\n",
    "    for item in pseudocode_data:\n",
    "        parent = item.get(\"parent\")\n",
    "        if parent and parent in nodes:\n",
    "            tree[parent].append(item[\"id\"])\n",
    "        else:\n",
    "            tree[root_id].append(item[\"id\"])\n",
    "    root_node = {\n",
    "        \"id\": root_id,\n",
    "        \"var_name\": root_id,\n",
    "        \"class\": \"root\",\n",
    "        \"title\": root_name,\n",
    "        \"parent\": None,\n",
    "        \"pseudocode\": {\n",
    "            \"applicability_pseudocode\": \"True\",\n",
    "            \"legal_pseudocode\": \"True\",\n",
    "            \"action_pseudocode\": \"\"\n",
    "        }\n",
    "    }\n",
    "    nodes[root_id] = root_node\n",
    "    return tree, nodes\n",
    "\n",
    "tree_law, nodes_law = build_tree_with_root(pseudocode_law, \"LAW_ROOT\", \"개인정보보호법\")\n",
    "tree_decree, nodes_decree = build_tree_with_root(pseudocode_decree, \"DECREE_ROOT\", \"시행령\")"
   ]
  },
  {
   "cell_type": "markdown",
   "id": "852cdce7",
   "metadata": {},
   "source": [
    "\n",
    "## 4. GPT-4o로 변수 확정 함수"
   ]
  },
  {
   "cell_type": "code",
   "execution_count": 29,
   "id": "907aa927",
   "metadata": {},
   "outputs": [],
   "source": [
    "def ask_gpt_true_false(case_content: str, question: str):\n",
    "    \"\"\"\n",
    "    비즈니스 문서(case_content)와 질문(question)을 GPT-4o에 주고\n",
    "    True 혹은 False만 받는 함수\n",
    "    \"\"\"\n",
    "    prompt = f\"\"\"\n",
    "다음은 비즈니스 활동에 대한 설명입니다.\n",
    "\n",
    "[비즈니스 문서]\n",
    "{case_content}\n",
    "\n",
    "[질문]\n",
    "{question}\n",
    "\n",
    "위 문서의 내용을 바탕으로 질문의 진위 여부를 판단하세요.\n",
    "'True' 또는 'False' 중 하나만 답변하세요.\n",
    "그 외 어떤 설명도 하지 마세요.\n",
    "\"\"\"\n",
    "\n",
    "    completion = client.chat.completions.create(\n",
    "        model=\"gpt-4o\",\n",
    "        messages=[\n",
    "            {\"role\": \"system\", \"content\": \"You are a compliance reasoning assistant. Output must be either True or False.\"},\n",
    "            {\"role\": \"user\", \"content\": prompt}\n",
    "        ],\n",
    "        temperature=0\n",
    "    )\n",
    "    answer = completion.choices[0].message.content.strip()\n",
    "    return True if \"True\" in answer else False"
   ]
  },
  {
   "cell_type": "markdown",
   "id": "e7733491",
   "metadata": {},
   "source": [
    "## 5. 트리 순회 함수 (오류 무시 + try/except)"
   ]
  },
  {
   "cell_type": "code",
   "execution_count": 30,
   "id": "2a36cd39",
   "metadata": {},
   "outputs": [],
   "source": [
    "def safe_eval(expr, context):\n",
    "    try:\n",
    "        return eval(expr, {}, context)\n",
    "    except Exception:\n",
    "        return False\n",
    "\n",
    "def traverse(tree, nodes, variables, root_id):\n",
    "    def preorder(node_id):\n",
    "        node = nodes[node_id]\n",
    "        code = node[\"pseudocode\"].get(\"applicability_pseudocode\", \"\")\n",
    "        var_name = node[\"var_name\"]\n",
    "        if var_name not in variables:\n",
    "            variables[var_name] = {\"applicability\": False, \"legal\": True}\n",
    "        try:\n",
    "            result = safe_eval(code, variables)\n",
    "        except Exception:\n",
    "            result = False\n",
    "        variables[var_name][\"applicability\"] = bool(result)\n",
    "        if result:\n",
    "            for child in tree.get(node_id, []):\n",
    "                preorder(child)\n",
    "        # else면 하위 스킵 (상위 노드로 복귀)\n",
    "\n",
    "    def postorder(node_id):\n",
    "        for child in tree.get(node_id, []):\n",
    "            postorder(child)\n",
    "        node = nodes[node_id]\n",
    "        var_name = node[\"var_name\"]\n",
    "        p = node[\"pseudocode\"]\n",
    "        try:\n",
    "            if safe_eval(p.get(\"legal_pseudocode\", \"\"), variables):\n",
    "                variables[var_name][\"legal\"] = False\n",
    "        except Exception:\n",
    "            pass\n",
    "        try:\n",
    "            act = p.get(\"action_pseudocode\", \"\")\n",
    "            if act:\n",
    "                exec(act, {}, variables)\n",
    "        except Exception:\n",
    "            pass\n",
    "\n",
    "    preorder(root_id)\n",
    "    postorder(root_id)\n",
    "    return variables"
   ]
  },
  {
   "cell_type": "markdown",
   "id": "de584a76",
   "metadata": {},
   "source": [
    "## 6. 메인 루프 (GPT 개별 질문 + 트리 순회)"
   ]
  },
  {
   "cell_type": "code",
   "execution_count": 33,
   "id": "b9e7a93c",
   "metadata": {},
   "outputs": [
    {
     "name": "stderr",
     "output_type": "stream",
     "text": [
      "[2023-012-135] 질문 진행:   0%|          | 0/334 [00:00<?, ?질문/s]"
     ]
    },
    {
     "name": "stderr",
     "output_type": "stream",
     "text": [
      "[2023-012-135] 질문 진행: 100%|██████████| 334/334 [04:28<00:00,  1.25질문/s, 334/334]\n",
      "[2023-012-132] 질문 진행: 100%|██████████| 334/334 [03:45<00:00,  1.48질문/s, 334/334]\n",
      "[2023-012-127] 질문 진행: 100%|██████████| 334/334 [03:39<00:00,  1.52질문/s, 334/334]\n",
      "[2023-012-120] 질문 진행: 100%|██████████| 334/334 [04:26<00:00,  1.25질문/s, 334/334]\n",
      "[2023-012-121] 질문 진행: 100%|██████████| 334/334 [03:53<00:00,  1.43질문/s, 334/334]\n",
      "[2023-012-126] 질문 진행: 100%|██████████| 334/334 [04:47<00:00,  1.16질문/s, 334/334]\n",
      "[2023-012-133] 질문 진행: 100%|██████████| 334/334 [04:12<00:00,  1.32질문/s, 334/334]\n",
      "[2023-012-134] 질문 진행: 100%|██████████| 334/334 [04:01<00:00,  1.38질문/s, 334/334]\n",
      "[2023-012-117] 질문 진행: 100%|██████████| 334/334 [03:33<00:00,  1.56질문/s, 334/334]\n",
      "[2023-012-124] 질문 진행: 100%|██████████| 334/334 [03:50<00:00,  1.45질문/s, 334/334]"
     ]
    },
    {
     "name": "stdout",
     "output_type": "stream",
     "text": [
      "\n",
      "✅ 모든 케이스 처리 완료 → results/summary.csv 생성됨\n"
     ]
    },
    {
     "name": "stderr",
     "output_type": "stream",
     "text": [
      "\n"
     ]
    }
   ],
   "source": [
    "# ==============================\n",
    "# 📊 6. 메인 루프 (한 tqdm 바에 전체 질문 진행률 표시)\n",
    "# ==============================\n",
    "import os, json, pandas as pd\n",
    "from copy import deepcopy\n",
    "from tqdm import tqdm\n",
    "\n",
    "summary = []\n",
    "os.makedirs(\"results\", exist_ok=True)\n",
    "\n",
    "for case_idx, case in enumerate(cases, start=1):\n",
    "    case_id = case[\"case_id\"]\n",
    "    content = case[\"case_content\"]\n",
    "    gt_law = [a for a in case[\"violated_articles\"] if \"보호법\" in a]\n",
    "    gt_decree = [a for a in case[\"violated_articles\"] if \"시행령\" in a]\n",
    "\n",
    "    case_dir = os.path.join(\"results\", case_id)\n",
    "    os.makedirs(case_dir, exist_ok=True)\n",
    "\n",
    "    # --- 초기화 (full variable 기반) ---\n",
    "    law_vars = deepcopy(base_vars_law_full)\n",
    "    decree_vars = deepcopy(base_vars_decree_full)\n",
    "\n",
    "    # 전체 질문 수 = 개인정보보호법 + 시행령\n",
    "    total_questions = len(checklist_law) + len(checklist_decree)\n",
    "    answered = 0\n",
    "\n",
    "    pbar = tqdm(total=total_questions, desc=f\"[{case_id}] 질문 진행\", unit=\"질문\", leave=True)\n",
    "\n",
    "    # --- 개인정보보호법 질문 ---\n",
    "    law_answers = {}\n",
    "    for item in checklist_law:\n",
    "        v, q = item[\"variable\"], item[\"question\"]\n",
    "        law_answers[v] = ask_gpt_true_false(content, q)\n",
    "        answered += 1\n",
    "        pbar.set_postfix_str(f\"{answered}/{total_questions}\")\n",
    "        pbar.update(1)\n",
    "\n",
    "    # --- 시행령 질문 ---\n",
    "    decree_answers = {}\n",
    "    for item in checklist_decree:\n",
    "        v, q = item[\"variable\"], item[\"question\"]\n",
    "        decree_answers[v] = ask_gpt_true_false(content, q)\n",
    "        answered += 1\n",
    "        pbar.set_postfix_str(f\"{answered}/{total_questions}\")\n",
    "        pbar.update(1)\n",
    "\n",
    "    pbar.close()\n",
    "\n",
    "    # --- GPT 결과 저장 ---\n",
    "    with open(os.path.join(case_dir, \"law_answers.json\"), \"w\", encoding=\"utf-8\") as f:\n",
    "        json.dump(law_answers, f, ensure_ascii=False, indent=2)\n",
    "    with open(os.path.join(case_dir, \"decree_answers.json\"), \"w\", encoding=\"utf-8\") as f:\n",
    "        json.dump(decree_answers, f, ensure_ascii=False, indent=2)\n",
    "\n",
    "    # --- context 병합 ---\n",
    "    law_context = {**law_vars, **law_answers}\n",
    "    decree_context = {**decree_vars, **decree_answers}\n",
    "\n",
    "    # --- 트리 순회 ---\n",
    "    law_result = traverse(tree_law, nodes_law, law_context, \"LAW_ROOT\")\n",
    "    decree_result = traverse(tree_decree, nodes_decree, decree_context, \"DECREE_ROOT\")\n",
    "\n",
    "    # --- 위반 조항 예측 ---\n",
    "    pred_law = [v for v, d in law_result.items() if isinstance(d, dict) and not d.get(\"legal\", True)]\n",
    "    pred_decree = [v for v, d in decree_result.items() if isinstance(d, dict) and not d.get(\"legal\", True)]\n",
    "\n",
    "    # --- 결과 저장 ---\n",
    "    with open(os.path.join(case_dir, \"law_variables.json\"), \"w\", encoding=\"utf-8\") as f:\n",
    "        json.dump(law_result, f, ensure_ascii=False, indent=2)\n",
    "    with open(os.path.join(case_dir, \"decree_variables.json\"), \"w\", encoding=\"utf-8\") as f:\n",
    "        json.dump(decree_result, f, ensure_ascii=False, indent=2)\n",
    "\n",
    "    # --- summary 추가 ---\n",
    "    summary.append({\n",
    "        \"case_id\": case_id,\n",
    "        \"content\": content[:200] + \"...\",\n",
    "        \"gt_law\": gt_law,\n",
    "        \"gt_decree\": gt_decree,\n",
    "        \"pred_law\": pred_law,\n",
    "        \"pred_decree\": pred_decree\n",
    "    })\n",
    "\n",
    "# --- CSV 저장 ---\n",
    "pd.DataFrame(summary).to_csv(\"results/summary.csv\", index=False, encoding=\"utf-8-sig\")\n",
    "print(\"\\n✅ 모든 케이스 처리 완료 → results/summary.csv 생성됨\")\n"
   ]
  }
 ],
 "metadata": {
  "kernelspec": {
   "display_name": "multi-agent",
   "language": "python",
   "name": "python3"
  },
  "language_info": {
   "codemirror_mode": {
    "name": "ipython",
    "version": 3
   },
   "file_extension": ".py",
   "mimetype": "text/x-python",
   "name": "python",
   "nbconvert_exporter": "python",
   "pygments_lexer": "ipython3",
   "version": "3.13.5"
  }
 },
 "nbformat": 4,
 "nbformat_minor": 5
}
